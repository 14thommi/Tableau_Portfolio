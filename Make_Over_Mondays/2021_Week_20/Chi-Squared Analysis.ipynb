{
 "cells": [
  {
   "cell_type": "markdown",
   "metadata": {},
   "source": [
    "#### Import Packages & Load Data"
   ]
  },
  {
   "cell_type": "code",
   "execution_count": 5,
   "metadata": {},
   "outputs": [],
   "source": [
    "from scipy.stats import chi2_contingency\n",
    "from scipy.stats import chi2\n",
    "import statsmodels.api as sm\n",
    "import pandas as pd"
   ]
  },
  {
   "cell_type": "code",
   "execution_count": 40,
   "metadata": {},
   "outputs": [],
   "source": [
    "df = pd.read_excel(\"input.xlsx\", sheet_name=\"animal_beating\", index_col=\"Animal\")"
   ]
  },
  {
   "cell_type": "code",
   "execution_count": 30,
   "metadata": {},
   "outputs": [
    {
     "data": {
      "text/html": [
       "<div>\n",
       "<style scoped>\n",
       "    .dataframe tbody tr th:only-of-type {\n",
       "        vertical-align: middle;\n",
       "    }\n",
       "\n",
       "    .dataframe tbody tr th {\n",
       "        vertical-align: top;\n",
       "    }\n",
       "\n",
       "    .dataframe thead th {\n",
       "        text-align: right;\n",
       "    }\n",
       "</style>\n",
       "<table border=\"1\" class=\"dataframe\">\n",
       "  <thead>\n",
       "    <tr style=\"text-align: right;\">\n",
       "      <th></th>\n",
       "      <th>Total</th>\n",
       "      <th>Male</th>\n",
       "      <th>Female</th>\n",
       "    </tr>\n",
       "    <tr>\n",
       "      <th>Animal</th>\n",
       "      <th></th>\n",
       "      <th></th>\n",
       "      <th></th>\n",
       "    </tr>\n",
       "  </thead>\n",
       "  <tbody>\n",
       "    <tr>\n",
       "      <th>Rat</th>\n",
       "      <td>0.72</td>\n",
       "      <td>0.76</td>\n",
       "      <td>0.68</td>\n",
       "    </tr>\n",
       "    <tr>\n",
       "      <th>House cat</th>\n",
       "      <td>0.69</td>\n",
       "      <td>0.74</td>\n",
       "      <td>0.64</td>\n",
       "    </tr>\n",
       "    <tr>\n",
       "      <th>Medium sized dog</th>\n",
       "      <td>0.49</td>\n",
       "      <td>0.60</td>\n",
       "      <td>0.39</td>\n",
       "    </tr>\n",
       "    <tr>\n",
       "      <th>Large dog</th>\n",
       "      <td>0.23</td>\n",
       "      <td>0.31</td>\n",
       "      <td>0.15</td>\n",
       "    </tr>\n",
       "    <tr>\n",
       "      <th>Kangaroo</th>\n",
       "      <td>0.14</td>\n",
       "      <td>0.17</td>\n",
       "      <td>0.11</td>\n",
       "    </tr>\n",
       "    <tr>\n",
       "      <th>Eagle</th>\n",
       "      <td>0.30</td>\n",
       "      <td>0.38</td>\n",
       "      <td>0.23</td>\n",
       "    </tr>\n",
       "    <tr>\n",
       "      <th>Grizzly Bear</th>\n",
       "      <td>0.06</td>\n",
       "      <td>0.07</td>\n",
       "      <td>0.06</td>\n",
       "    </tr>\n",
       "    <tr>\n",
       "      <th>Wolf</th>\n",
       "      <td>0.12</td>\n",
       "      <td>0.16</td>\n",
       "      <td>0.09</td>\n",
       "    </tr>\n",
       "    <tr>\n",
       "      <th>Lion</th>\n",
       "      <td>0.08</td>\n",
       "      <td>0.07</td>\n",
       "      <td>0.08</td>\n",
       "    </tr>\n",
       "    <tr>\n",
       "      <th>Gorilla</th>\n",
       "      <td>0.08</td>\n",
       "      <td>0.09</td>\n",
       "      <td>0.08</td>\n",
       "    </tr>\n",
       "    <tr>\n",
       "      <th>Chimpanzee</th>\n",
       "      <td>0.17</td>\n",
       "      <td>0.22</td>\n",
       "      <td>0.12</td>\n",
       "    </tr>\n",
       "    <tr>\n",
       "      <th>King Cobra</th>\n",
       "      <td>0.15</td>\n",
       "      <td>0.23</td>\n",
       "      <td>0.08</td>\n",
       "    </tr>\n",
       "    <tr>\n",
       "      <th>Elephant</th>\n",
       "      <td>0.08</td>\n",
       "      <td>0.09</td>\n",
       "      <td>0.08</td>\n",
       "    </tr>\n",
       "    <tr>\n",
       "      <th>Crocodile</th>\n",
       "      <td>0.09</td>\n",
       "      <td>0.10</td>\n",
       "      <td>0.08</td>\n",
       "    </tr>\n",
       "    <tr>\n",
       "      <th>Goose</th>\n",
       "      <td>0.61</td>\n",
       "      <td>0.71</td>\n",
       "      <td>0.51</td>\n",
       "    </tr>\n",
       "  </tbody>\n",
       "</table>\n",
       "</div>"
      ],
      "text/plain": [
       "                  Total  Male  Female\n",
       "Animal                               \n",
       "Rat                0.72  0.76    0.68\n",
       "House cat          0.69  0.74    0.64\n",
       "Medium sized dog   0.49  0.60    0.39\n",
       "Large dog          0.23  0.31    0.15\n",
       "Kangaroo           0.14  0.17    0.11\n",
       "Eagle              0.30  0.38    0.23\n",
       "Grizzly Bear       0.06  0.07    0.06\n",
       "Wolf               0.12  0.16    0.09\n",
       "Lion               0.08  0.07    0.08\n",
       "Gorilla            0.08  0.09    0.08\n",
       "Chimpanzee         0.17  0.22    0.12\n",
       "King Cobra         0.15  0.23    0.08\n",
       "Elephant           0.08  0.09    0.08\n",
       "Crocodile          0.09  0.10    0.08\n",
       "Goose              0.61  0.71    0.51"
      ]
     },
     "execution_count": 30,
     "metadata": {},
     "output_type": "execute_result"
    }
   ],
   "source": [
    "df"
   ]
  },
  {
   "cell_type": "markdown",
   "metadata": {},
   "source": [
    "## Perform Chi-Squared Test"
   ]
  },
  {
   "cell_type": "code",
   "execution_count": 41,
   "metadata": {},
   "outputs": [],
   "source": [
    "# Perform Chi-Squared Analysis on the diferences of gender and belief in beating an animal in a fight\n",
    "table = sm.stats.Table(df.loc[:,[\"Male\",\"Female\"]])"
   ]
  },
  {
   "cell_type": "code",
   "execution_count": 43,
   "metadata": {},
   "outputs": [
    {
     "name": "stdout",
     "output_type": "stream",
     "text": [
      "                  Male  Female\n",
      "Animal                        \n",
      "Rat                453     427\n",
      "House cat          441     402\n",
      "Medium sized dog   358     245\n",
      "Large dog          185      94\n",
      "Kangaroo           101      69\n",
      "Eagle              226     144\n",
      "Grizzly Bear        42      38\n",
      "Wolf                95      57\n",
      "Lion                42      50\n",
      "Gorilla             54      50\n",
      "Chimpanzee         131      75\n",
      "King Cobra         137      50\n",
      "Elephant            54      50\n",
      "Crocodile           60      50\n",
      "Goose              423     320\n"
     ]
    }
   ],
   "source": [
    "# See the counts of each gender in belief of \n",
    "print(table.table_orig)"
   ]
  },
  {
   "cell_type": "code",
   "execution_count": 44,
   "metadata": {},
   "outputs": [
    {
     "name": "stdout",
     "output_type": "stream",
     "text": [
      "                        Male      Female\n",
      "Animal                                  \n",
      "Rat               500.865326  379.134674\n",
      "House cat         479.806216  363.193784\n",
      "Medium sized dog  343.206581  259.793419\n",
      "Large dog         158.797075  120.202925\n",
      "Kangaroo           96.758074   73.241926\n",
      "Eagle             210.591103  159.408897\n",
      "Grizzly Bear       45.533211   34.466789\n",
      "Wolf               86.513102   65.486898\n",
      "Lion               52.363193   39.636807\n",
      "Gorilla            59.193175   44.806825\n",
      "Chimpanzee        117.248020   88.751980\n",
      "King Cobra        106.433882   80.566118\n",
      "Elephant           59.193175   44.806825\n",
      "Crocodile          62.608166   47.391834\n",
      "Goose             422.889701  320.110299\n"
     ]
    }
   ],
   "source": [
    "print(table.fittedvalues)"
   ]
  },
  {
   "cell_type": "code",
   "execution_count": 24,
   "metadata": {},
   "outputs": [
    {
     "name": "stdout",
     "output_type": "stream",
     "text": [
      "                      Male    Female\n",
      "Animal                              \n",
      "Rat              -2.138753  2.458240\n",
      "House cat        -1.771611  2.036255\n",
      "Medium sized dog  0.798529 -0.917814\n",
      "Large dog         2.079354 -2.389969\n",
      "Kangaroo          0.431240 -0.495659\n",
      "Eagle             1.061822 -1.220437\n",
      "Grizzly Bear     -0.523607  0.601824\n",
      "Wolf              0.912448 -1.048750\n",
      "Lion             -1.432124  1.646055\n",
      "Gorilla          -0.674990  0.775820\n",
      "Chimpanzee        1.270026 -1.459742\n",
      "King Cobra        2.962786 -3.405368\n",
      "Elephant         -0.674990  0.775820\n",
      "Crocodile        -0.329625  0.378864\n",
      "Goose             0.005364 -0.006165\n"
     ]
    }
   ],
   "source": [
    "print(table.resid_pearson)"
   ]
  },
  {
   "cell_type": "code",
   "execution_count": 42,
   "metadata": {
    "scrolled": true
   },
   "outputs": [
    {
     "name": "stdout",
     "output_type": "stream",
     "text": [
      "                      Male    Female\n",
      "Animal                              \n",
      "Rat              -3.595573  3.595573\n",
      "House cat        -2.964816  2.964816\n",
      "Medium sized dog  1.298699 -1.298699\n",
      "Large dog         3.261684 -3.261684\n",
      "Kangaroo          0.668644 -0.668644\n",
      "Eagle             1.682140 -1.682140\n",
      "Grizzly Bear     -0.804281  0.804281\n",
      "Wolf              1.412092 -1.412092\n",
      "Lion             -2.202528  2.202528\n",
      "Gorilla          -1.039389  1.039389\n",
      "Chimpanzee        1.976692 -1.976692\n",
      "King Cobra        4.602078 -4.602078\n",
      "Elephant         -1.039389  1.039389\n",
      "Crocodile        -0.507892  0.507892\n",
      "Goose             0.008868 -0.008868\n"
     ]
    }
   ],
   "source": [
    "print(table.standardized_resids)"
   ]
  },
  {
   "cell_type": "code",
   "execution_count": 49,
   "metadata": {},
   "outputs": [],
   "source": [
    "output = pd.concat([table.table_orig, table.fittedvalues, table.standardized_resids],axis=1)"
   ]
  },
  {
   "cell_type": "code",
   "execution_count": 51,
   "metadata": {},
   "outputs": [],
   "source": [
    "output.columns = [\"Male\",\"Female\",\"Expected Male\",\"Expected Female\",\"Std Res Male\",\"Std Res Female\"]"
   ]
  },
  {
   "cell_type": "code",
   "execution_count": 53,
   "metadata": {},
   "outputs": [],
   "source": [
    "output.to_csv(\"output.csv\")"
   ]
  }
 ],
 "metadata": {
  "kernelspec": {
   "display_name": "Python 3",
   "language": "python",
   "name": "python3"
  },
  "language_info": {
   "codemirror_mode": {
    "name": "ipython",
    "version": 3
   },
   "file_extension": ".py",
   "mimetype": "text/x-python",
   "name": "python",
   "nbconvert_exporter": "python",
   "pygments_lexer": "ipython3",
   "version": "3.8.3"
  }
 },
 "nbformat": 4,
 "nbformat_minor": 4
}
